{
 "cells": [
  {
   "cell_type": "code",
   "execution_count": 19,
   "metadata": {},
   "outputs": [],
   "source": [
    "import os, sys, requests, bs4"
   ]
  },
  {
   "cell_type": "code",
   "execution_count": 20,
   "metadata": {},
   "outputs": [
    {
     "data": {
      "text/plain": [
       "<Response [200]>"
      ]
     },
     "execution_count": 20,
     "metadata": {},
     "output_type": "execute_result"
    }
   ],
   "source": [
    "domain='https://www.stat.gov.az/source/tourism/'\n",
    "r=requests.get(domain)\n",
    "r"
   ]
  },
  {
   "cell_type": "code",
   "execution_count": 21,
   "metadata": {},
   "outputs": [],
   "source": [
    "soup=bs4.BeautifulSoup(r.text,'html.parser')"
   ]
  },
  {
   "cell_type": "code",
   "execution_count": 22,
   "metadata": {},
   "outputs": [],
   "source": [
    "os.makedirs('stat_files', exist_ok=True) #papka yaradir "
   ]
  },
  {
   "cell_type": "code",
   "execution_count": null,
   "metadata": {},
   "outputs": [
    {
     "name": "stdin",
     "output_type": "stream",
     "text": [
      "Sadece bulletenler endirilsin Y or N  y\n"
     ]
    }
   ],
   "source": [
    "files=soup.find_all('a', class_=\"list-group-item\")\n",
    "bulleten=input(\"Sadece bulletenler endirilsin Y or N \").lower() \n",
    "\n",
    "if bulleten==\"n\":\n",
    "    for file in files: #limit=3 to limit number of files\n",
    "        name,link=file.get_text(),file.get(\"href\")\n",
    "        if \"xls\" in link:\n",
    "            print(name)\n",
    "            r=requests.get(domain+link)\n",
    "            open(os.path.join('stat_files',os.path.basename(name+\".xls\")), 'wb').write(r.content) #papkaya yazir fayli\n",
    "else:\n",
    "    tarix=input(\"Hansi il uzre? (mes. 2020) \")\n",
    "    for file in files: #limit=3 to limit number of files\n",
    "        name,link=file.get_text(),file.get(\"href\")\n",
    "        if (\"zip\") in link:\n",
    "            #print(file)\n",
    "            if tarix in link:\n",
    "                print(name)\n",
    "                r=requests.get(domain+link)\n",
    "                open(os.path.join('stat_files',os.path.basename(name+link[-4:])), 'wb').write(r.content) #papkaya yazir fayli            \n",
    "\n",
    "print(\"Done\")\n",
    "input(\"Click Enter\")"
   ]
  },
  {
   "cell_type": "code",
   "execution_count": 18,
   "metadata": {
    "collapsed": true,
    "jupyter": {
     "outputs_hidden": true
    }
   },
   "outputs": [
    {
     "name": "stdout",
     "output_type": "stream",
     "text": [
      " Səyahət agentlikləri və turoperatorların əsas göstəriciləri\n",
      " Səyahət agentlikləri və turoperatorların mülkiyyət növünə görə sayı\n",
      " Qəbul edilmiş və göndərilmiş turistlər\n",
      " Səyahət agentlikləri və turoperator fəaliyyəti ilə məşğul olan müəssisələrdə işçilərin sayı\n",
      " Səyahət agentlikləri və turoperatorların gəlir və xərcləri\n",
      " Əhaliyə satılmış turizm yollayışı blanklarının sayı və dəyəri\n",
      " Mülkiyyət növləri üzrə səyahət agentlikləri və turoperatorlar tərəfindən qrup və fərdi halda əhaliyə satılmış turizm yollayışı blanklarının sayı və dəyəri\n",
      " Səyahət agentlikləri və turoperatorların vasitəçiliyi ilə Azərbaycana gələn əcnəbilər və vətəndaşlığı olmayan şəxslərin, xarici ölkələrə gedən Azərbaycan vətəndaşlarının sayı\n",
      " Turizm üçün xarakterik sahələr üzrə əsas göstəricilər\n",
      " Azərbaycan Respublikasının Dövlət sərhəd-buraxılış məntəqələrindən keçən şəxslərin  sayı haqqında\n",
      " Mehmanxana və mehmanxana tipli müəssisələr\n",
      " İqtisadi rayonlar üzrə səyahət agentlikləri və turoperatorların əsas göstəriciləri\n",
      " İqtisadi rayonlar üzrə  mehmanxana və mehmanxana tipli müəssisələrin əsas  göstəriciləri\n",
      " Keyfiyyət məruzəsi\n",
      " Bülletenlər \n",
      "Nəşrin elektron versiyası\n",
      "Regionların statistik portreti\n",
      "Statistik məlumatlar sizi qane edirmi?\n"
     ]
    },
    {
     "ename": "OSError",
     "evalue": "[WinError 123] The filename, directory name, or volume label syntax is incorrect: 'Statistik məlumatlar sizi qane edirmi?'",
     "output_type": "error",
     "traceback": [
      "\u001b[1;31m---------------------------------------------------------------------------\u001b[0m",
      "\u001b[1;31mOSError\u001b[0m                                   Traceback (most recent call last)",
      "\u001b[1;32m<ipython-input-18-840de0db033f>\u001b[0m in \u001b[0;36m<module>\u001b[1;34m\u001b[0m\n\u001b[0;32m      2\u001b[0m \u001b[1;32mfor\u001b[0m \u001b[0mi\u001b[0m \u001b[1;32min\u001b[0m \u001b[0mcategories\u001b[0m\u001b[1;33m:\u001b[0m\u001b[1;33m\u001b[0m\u001b[1;33m\u001b[0m\u001b[0m\n\u001b[0;32m      3\u001b[0m     \u001b[0mprint\u001b[0m\u001b[1;33m(\u001b[0m\u001b[0mi\u001b[0m\u001b[1;33m.\u001b[0m\u001b[0mget_text\u001b[0m\u001b[1;33m(\u001b[0m\u001b[1;33m)\u001b[0m\u001b[1;33m)\u001b[0m\u001b[1;33m\u001b[0m\u001b[1;33m\u001b[0m\u001b[0m\n\u001b[1;32m----> 4\u001b[1;33m     \u001b[0mos\u001b[0m\u001b[1;33m.\u001b[0m\u001b[0mmakedirs\u001b[0m\u001b[1;33m(\u001b[0m\u001b[0mi\u001b[0m\u001b[1;33m.\u001b[0m\u001b[0mget_text\u001b[0m\u001b[1;33m(\u001b[0m\u001b[1;33m)\u001b[0m\u001b[1;33m,\u001b[0m \u001b[0mexist_ok\u001b[0m\u001b[1;33m=\u001b[0m\u001b[1;32mTrue\u001b[0m\u001b[1;33m)\u001b[0m\u001b[1;33m\u001b[0m\u001b[1;33m\u001b[0m\u001b[0m\n\u001b[0m\u001b[0;32m      5\u001b[0m \u001b[1;33m\u001b[0m\u001b[0m\n",
      "\u001b[1;32mc:\\users\\fuad.ak\\appdata\\local\\programs\\python\\python37-32\\lib\\os.py\u001b[0m in \u001b[0;36mmakedirs\u001b[1;34m(name, mode, exist_ok)\u001b[0m\n\u001b[0;32m    219\u001b[0m             \u001b[1;32mreturn\u001b[0m\u001b[1;33m\u001b[0m\u001b[1;33m\u001b[0m\u001b[0m\n\u001b[0;32m    220\u001b[0m     \u001b[1;32mtry\u001b[0m\u001b[1;33m:\u001b[0m\u001b[1;33m\u001b[0m\u001b[1;33m\u001b[0m\u001b[0m\n\u001b[1;32m--> 221\u001b[1;33m         \u001b[0mmkdir\u001b[0m\u001b[1;33m(\u001b[0m\u001b[0mname\u001b[0m\u001b[1;33m,\u001b[0m \u001b[0mmode\u001b[0m\u001b[1;33m)\u001b[0m\u001b[1;33m\u001b[0m\u001b[1;33m\u001b[0m\u001b[0m\n\u001b[0m\u001b[0;32m    222\u001b[0m     \u001b[1;32mexcept\u001b[0m \u001b[0mOSError\u001b[0m\u001b[1;33m:\u001b[0m\u001b[1;33m\u001b[0m\u001b[1;33m\u001b[0m\u001b[0m\n\u001b[0;32m    223\u001b[0m         \u001b[1;31m# Cannot rely on checking for EEXIST, since the operating system\u001b[0m\u001b[1;33m\u001b[0m\u001b[1;33m\u001b[0m\u001b[1;33m\u001b[0m\u001b[0m\n",
      "\u001b[1;31mOSError\u001b[0m: [WinError 123] The filename, directory name, or volume label syntax is incorrect: 'Statistik məlumatlar sizi qane edirmi?'"
     ]
    }
   ],
   "source": [
    "categories=soup.find_all('div', class_=\"panel-heading\") #papkalarin adlarin duzeldir.\n",
    "for i in categories:\n",
    "    print(i.get_text())\n",
    "    os.makedirs(i.get_text(), exist_ok=True)\n",
    "    "
   ]
  }
 ],
 "metadata": {
  "kernelspec": {
   "display_name": "Python 3",
   "language": "python",
   "name": "python3"
  },
  "language_info": {
   "codemirror_mode": {
    "name": "ipython",
    "version": 3
   },
   "file_extension": ".py",
   "mimetype": "text/x-python",
   "name": "python",
   "nbconvert_exporter": "python",
   "pygments_lexer": "ipython3",
   "version": "3.7.5"
  }
 },
 "nbformat": 4,
 "nbformat_minor": 4
}
